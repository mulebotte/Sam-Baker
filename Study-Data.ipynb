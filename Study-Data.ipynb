{
 "cells": [
  {
   "cell_type": "code",
   "execution_count": 1,
   "metadata": {},
   "outputs": [],
   "source": [
    "from datetime import date\n",
    "from datetime import datetime\n",
    "from datetime import timedelta\n",
    "import os\n",
    "import subprocess\n",
    "import urllib\n",
    "import pandas as pd\n",
    "import yfinance as yf\n",
    "import matplotlib.pyplot as plt\n",
    "from matplotlib import style"
   ]
  },
  {
   "cell_type": "markdown",
   "metadata": {},
   "source": [
    "# Gathering Data for Intermarket Correlation Study"
   ]
  },
  {
   "cell_type": "markdown",
   "metadata": {},
   "source": [
    "-Data will be scraped from the FRED website and from Yahoo Finance using the yfinance app.\n",
    "\n",
    "-Data for the 'Pre-COVID' and 'Post-COVID' period will be stored in CSV files. A 'metadata' file will be made to encompass all dates."
   ]
  },
  {
   "cell_type": "markdown",
   "metadata": {},
   "source": [
    "# Get Post-COVID Data"
   ]
  },
  {
   "cell_type": "code",
   "execution_count": 2,
   "metadata": {},
   "outputs": [
    {
     "name": "stdout",
     "output_type": "stream",
     "text": [
      "'/Users/sambaker/Desktop/School/DA/IS/Covid-Study-Data' already exists\n"
     ]
    }
   ],
   "source": [
    "today = datetime.today().strftime('%Y-%m-%d')\n",
    "beginning = '2020-03-19'\n",
    "if not(os.path.exists('Covid-Study-Data')):\n",
    "    cmd = 'mkdir ' + os.path.join(os.getcwd(),'Covid-Study-Data')\n",
    "    print(cmd)\n",
    "    (status, output) = subprocess.getstatusoutput(cmd)    # try to make a new directory\n",
    "    print(\"STATUS:\\n\", status,\"OUTPUT:\\n\", output)                            # 0 implies error free!\n",
    "else:\n",
    "    print(\"'{}' already exists\".format(os.path.join(os.getcwd(), 'Covid-Study-Data')))\n"
   ]
  },
  {
   "cell_type": "code",
   "execution_count": 3,
   "metadata": {},
   "outputs": [],
   "source": [
    "os.chdir('Covid-Study-Data')\n",
    "tickers = {'EURUSD':'EURUSD=X','JPYUSD':'JPY=X','AUDUSD':'AUDUSD=X','CHFUSD':'CHF=X','CADUSD':'CAD=X','NOKUSD':'NOK=X',\n",
    " 'SEKUSD':'SEK=X','NZDUSD':'NZDUSD=X','RUBUSD':'RUBUSD=X','CNYUSD':'CNY=X','MXNUSD':'MXN=X','GBPUSD':'GBPUSD=X',\n",
    " 'BRLUSD':'BRL=X','DXY':'DX-Y.NYB','BTCUSD':'BTC-USD','GOLD':'GLD','S&P500':'^GSPC','DJIA':'^DJI','NASDAQ':'^IXIC'}\n",
    "for key in tickers.keys():\n",
    "    tickers[key] = yf.download(tickers[key], start=beginning, end=today, progress=False)[[\"Adj Close\"]]\n",
    "data = pd.concat(list(tickers.values()), axis=1)\n",
    "data.columns = tickers.keys()\n",
    "baseurl = 'https://fred.stlouisfed.org/graph/fredgraph.csv?bgcolor=%23e1e9f0&chart_type=line&drp=0&fo=open%20sans&graph_bgcolor=%23ffffff&height=450&mode=fred&recession_bars=on&txtcolor=%23444444&ts=12&tts=12&width=1168&nt=0&thu=0&trc=0&show_legend=yes&show_axis_titles=yes&show_tooltip=yes&id='\n",
    "base2 = '&scale=left&cosd='\n",
    "base3 = '&coed='\n",
    "base4 = '&line_color=%234572a7&link_values=false&line_style=solid&mark_type=none&mw=3&lw=2&ost=-99999&oet=99999&mma=0&fml=a&fq=Daily&fam=avg&fgst=lin&fgsnd=2020-02-01&line_index=1&transformation=lin&vintage_date='\n",
    "base5 = '&revision_date='\n",
    "DGS10 = baseurl + 'DGS10' + base2 + beginning + base3 + today + base4 + str(today) + base5 + str(today) + '&nd=1962-01-02'\n",
    "DFII10 = baseurl + 'DFII10'+ base2 + beginning + base3 + today + base4 + str(today) + base5 + str(today) + '&nd=2003-01-02'\n",
    "DGS30 = baseurl + 'DGS30'+ base2 + beginning + base3 + today + base4 + str(today) + base5 + str(today) + '&nd=1977-02-15'\n",
    "DFII30 = baseurl + 'DFII30'+ base2 + beginning + base3 + today + base4 + str(today) + base5 + str(today) + '&nd=2010-02-22'\n",
    "DGS2 = baseurl + 'DGS2'+ base2 + beginning + base3 + today + base4 + str(today) + base5 + str(today) + '&nd=1976-06-01'\n",
    "datalinks = {'DGS10':DGS10,'DFII10':DFII10,'DGS30':DGS30,'DFII30':DFII30,'DGS2':DGS2}"
   ]
  },
  {
   "cell_type": "code",
   "execution_count": 4,
   "metadata": {},
   "outputs": [
    {
     "name": "stdout",
     "output_type": "stream",
     "text": [
      "'/Users/sambaker/Desktop/School/DA/IS/Covid-Study-Data/DGS10.csv' already exists\n",
      "'/Users/sambaker/Desktop/School/DA/IS/Covid-Study-Data/DFII10.csv' already exists\n",
      "'/Users/sambaker/Desktop/School/DA/IS/Covid-Study-Data/DGS30.csv' already exists\n",
      "'/Users/sambaker/Desktop/School/DA/IS/Covid-Study-Data/DFII30.csv' already exists\n",
      "'/Users/sambaker/Desktop/School/DA/IS/Covid-Study-Data/DGS2.csv' already exists\n"
     ]
    }
   ],
   "source": [
    "for element in datalinks.keys():\n",
    "    destfile = os.path.join(os.getcwd(), element + '.csv')\n",
    "    fromfile = datalinks.get(element)\n",
    "    if not os.path.exists(destfile):\n",
    "        urllib.request.urlretrieve(fromfile, destfile)\n",
    "    else:\n",
    "        print(\"'{}' already exists\".format(destfile))"
   ]
  },
  {
   "cell_type": "code",
   "execution_count": 5,
   "metadata": {},
   "outputs": [],
   "source": [
    "DGS10 = pd.read_csv('DGS10.csv').set_index('DATE')\n",
    "DFII10 = pd.read_csv('DFII10.csv').set_index('DATE')\n",
    "DGS30 = pd.read_csv('DGS30.csv').set_index('DATE')\n",
    "DFII30 = pd.read_csv('DFII30.csv').set_index('DATE')\n",
    "DGS2 = pd.read_csv('DGS2.csv').set_index('DATE')\n",
    "tdata = pd.concat([DGS10, DFII10,DGS30,DFII30,DGS2], axis=1)\n",
    "tdata = tdata[tdata.DGS10 != '.']\n",
    "tdata = tdata[tdata.DGS10 != ''].astype(float)\n",
    "data = data.join(tdata)\n",
    "data.dropna(inplace=True)\n",
    "data.to_csv('Postcovid.csv')"
   ]
  },
  {
   "cell_type": "markdown",
   "metadata": {},
   "source": [
    "# Get Pre-COVID Data"
   ]
  },
  {
   "cell_type": "code",
   "execution_count": 6,
   "metadata": {},
   "outputs": [
    {
     "name": "stdout",
     "output_type": "stream",
     "text": [
      "'/Users/sambaker/Desktop/School/DA/IS/Covid-Study-Data/DGS10pre.csv' already exists\n",
      "'/Users/sambaker/Desktop/School/DA/IS/Covid-Study-Data/DFII10pre.csv' already exists\n",
      "'/Users/sambaker/Desktop/School/DA/IS/Covid-Study-Data/DGS30pre.csv' already exists\n",
      "'/Users/sambaker/Desktop/School/DA/IS/Covid-Study-Data/DFII30pre.csv' already exists\n",
      "'/Users/sambaker/Desktop/School/DA/IS/Covid-Study-Data/DGS2pre.csv' already exists\n"
     ]
    }
   ],
   "source": [
    "beginning = '2015-02-18'\n",
    "ending = '2020-02-19'\n",
    "tickers = {'EURUSD':'EURUSD=X','JPYUSD':'JPY=X','AUDUSD':'AUDUSD=X','CHFUSD':'CHF=X','CADUSD':'CAD=X','NOKUSD':'NOK=X',\n",
    " 'SEKUSD':'SEK=X','NZDUSD':'NZDUSD=X','RUBUSD':'RUBUSD=X','CNYUSD':'CNY=X','MXNUSD':'MXN=X','GBPUSD':'GBPUSD=X',\n",
    " 'BRLUSD':'BRL=X','DXY':'DX-Y.NYB','BTCUSD':'BTC-USD','GOLD':'GLD','S&P500':'^GSPC','DJIA':'^DJI','NASDAQ':'^IXIC'}\n",
    "for key in tickers.keys():\n",
    "    tickers[key] = yf.download(tickers[key], start=beginning, end=ending, progress=False)[[\"Adj Close\"]]\n",
    "data = pd.concat(list(tickers.values()), axis=1)\n",
    "data.columns = tickers.keys()\n",
    "baseurl = 'https://fred.stlouisfed.org/graph/fredgraph.csv?bgcolor=%23e1e9f0&chart_type=line&drp=0&fo=open%20sans&graph_bgcolor=%23ffffff&height=450&mode=fred&recession_bars=on&txtcolor=%23444444&ts=12&tts=12&width=1168&nt=0&thu=0&trc=0&show_legend=yes&show_axis_titles=yes&show_tooltip=yes&id='\n",
    "base2 = '&scale=left&cosd='\n",
    "base3 = '&coed='\n",
    "base4 = '&line_color=%234572a7&link_values=false&line_style=solid&mark_type=none&mw=3&lw=2&ost=-99999&oet=99999&mma=0&fml=a&fq=Daily&fam=avg&fgst=lin&fgsnd=2020-02-01&line_index=1&transformation=lin&vintage_date='\n",
    "base5 = '&revision_date='\n",
    "DGS10 = baseurl + 'DGS10' + base2 + beginning + base3 + ending + base4 + str(ending) + base5 + str(ending) + '&nd=1962-01-02'\n",
    "DFII10 = baseurl + 'DFII10'+ base2 + beginning + base3 + ending + base4 + str(ending) + base5 + str(ending) + '&nd=2003-01-02'\n",
    "DGS30 = baseurl + 'DGS30'+ base2 + beginning + base3 + ending + base4 + str(ending) + base5 + str(ending) + '&nd=1977-02-15'\n",
    "DFII30 = baseurl + 'DFII30'+ base2 + beginning + base3 + ending + base4 + str(ending) + base5 + str(ending) + '&nd=2010-02-22'\n",
    "DGS2 = baseurl + 'DGS2'+ base2 + beginning + base3 + ending + base4 + str(ending) + base5 + str(ending) + '&nd=1976-06-01'\n",
    "datalinks = {'DGS10':DGS10,'DFII10':DFII10,'DGS30':DGS30,'DFII30':DFII30,'DGS2':DGS2}\n",
    "for element in datalinks.keys():\n",
    "    destfile = os.path.join(os.getcwd(), element + 'pre' + '.csv')\n",
    "    fromfile = datalinks.get(element)\n",
    "    if not os.path.exists(destfile):\n",
    "        urllib.request.urlretrieve(fromfile, destfile)\n",
    "    else:\n",
    "        print(\"'{}' already exists\".format(destfile))"
   ]
  },
  {
   "cell_type": "code",
   "execution_count": 7,
   "metadata": {},
   "outputs": [],
   "source": [
    "DGS10 = pd.read_csv('DGS10pre.csv').set_index('DATE')\n",
    "DFII10 = pd.read_csv('DFII10pre.csv').set_index('DATE')\n",
    "DGS30 = pd.read_csv('DGS30pre.csv').set_index('DATE')\n",
    "DFII30 = pd.read_csv('DFII30pre.csv').set_index('DATE')\n",
    "DGS2 = pd.read_csv('DGS2pre.csv').set_index('DATE')\n",
    "tdata = pd.concat([DGS10, DFII10,DGS30,DFII30,DGS2], axis=1)\n",
    "tdata = tdata[tdata.DGS10 != '.']\n",
    "tdata = tdata[tdata.DGS10 != ''].astype(float)\n",
    "data = data.join(tdata)\n",
    "data.dropna(inplace=True)\n",
    "data.to_csv('Precovid.csv')"
   ]
  },
  {
   "cell_type": "markdown",
   "metadata": {},
   "source": [
    "# Metadata"
   ]
  },
  {
   "cell_type": "code",
   "execution_count": 8,
   "metadata": {},
   "outputs": [],
   "source": [
    "beginning = '2015-02-18'\n",
    "today = datetime.today().strftime('%Y-%m-%d')\n",
    "tickers = {'EURUSD':'EURUSD=X','JPYUSD':'JPY=X','AUDUSD':'AUDUSD=X','CHFUSD':'CHF=X','CADUSD':'CAD=X','NOKUSD':'NOK=X',\n",
    " 'SEKUSD':'SEK=X','NZDUSD':'NZDUSD=X','RUBUSD':'RUBUSD=X','CNYUSD':'CNY=X','MXNUSD':'MXN=X','GBPUSD':'GBPUSD=X',\n",
    " 'BRLUSD':'BRL=X','DXY':'DX-Y.NYB','BTCUSD':'BTC-USD','GOLD':'GLD','S&P500':'^GSPC','DJIA':'^DJI','NASDAQ':'^IXIC'}\n",
    "for key in tickers.keys():\n",
    "    tickers[key] = yf.download(tickers[key], start=beginning, end=today, progress=False)[[\"Adj Close\"]]\n",
    "data = pd.concat(list(tickers.values()), axis=1)\n",
    "data.columns = tickers.keys()\n",
    "baseurl = 'https://fred.stlouisfed.org/graph/fredgraph.csv?bgcolor=%23e1e9f0&chart_type=line&drp=0&fo=open%20sans&graph_bgcolor=%23ffffff&height=450&mode=fred&recession_bars=on&txtcolor=%23444444&ts=12&tts=12&width=1168&nt=0&thu=0&trc=0&show_legend=yes&show_axis_titles=yes&show_tooltip=yes&id='\n",
    "base2 = '&scale=left&cosd='\n",
    "base3 = '&coed='\n",
    "base4 = '&line_color=%234572a7&link_values=false&line_style=solid&mark_type=none&mw=3&lw=2&ost=-99999&oet=99999&mma=0&fml=a&fq=Daily&fam=avg&fgst=lin&fgsnd=2020-02-01&line_index=1&transformation=lin&vintage_date='\n",
    "base5 = '&revision_date='\n",
    "DGS10 = baseurl + 'DGS10' + base2 + beginning + base3 + today + base4 + str(today) + base5 + str(today) + '&nd=1962-01-02'\n",
    "DFII10 = baseurl + 'DFII10'+ base2 + beginning + base3 + today + base4 + str(today) + base5 + str(today) + '&nd=2003-01-02'\n",
    "DGS30 = baseurl + 'DGS30'+ base2 + beginning + base3 + today + base4 + str(today) + base5 + str(today) + '&nd=1977-02-15'\n",
    "DFII30 = baseurl + 'DFII30'+ base2 + beginning + base3 + today + base4 + str(today) + base5 + str(today) + '&nd=2010-02-22'\n",
    "DGS2 = baseurl + 'DGS2'+ base2 + beginning + base3 + today + base4 + str(today) + base5 + str(today) + '&nd=1976-06-01'\n",
    "datalinks = {'DGS10':DGS10,'DFII10':DFII10,'DGS30':DGS30,'DFII30':DFII30,'DGS2':DGS2}\n",
    "for element in datalinks.keys():\n",
    "    destfile = os.path.join(os.getcwd(), element + 'meta' + '.csv')\n",
    "    fromfile = datalinks.get(element)\n",
    "    urllib.request.urlretrieve(fromfile, destfile)\n",
    "DGS10 = pd.read_csv('DGS10meta.csv').set_index('DATE')\n",
    "DFII10 = pd.read_csv('DFII10meta.csv').set_index('DATE')\n",
    "DGS30 = pd.read_csv('DGS30meta.csv').set_index('DATE')\n",
    "DFII30 = pd.read_csv('DFII30meta.csv').set_index('DATE')\n",
    "DGS2 = pd.read_csv('DGS2meta.csv').set_index('DATE')\n",
    "tdata = pd.concat([DGS10, DFII10,DGS30,DFII30,DGS2], axis=1)\n",
    "tdata = tdata[tdata.DGS10 != '.']\n",
    "tdata = tdata[tdata.DGS10 != ''].astype(float)\n",
    "data = data.join(tdata)\n",
    "data.dropna(inplace=True)\n",
    "data.to_csv('data.csv')"
   ]
  },
  {
   "cell_type": "code",
   "execution_count": null,
   "metadata": {},
   "outputs": [],
   "source": []
  }
 ],
 "metadata": {
  "kernelspec": {
   "display_name": "Python 3",
   "language": "python",
   "name": "python3"
  },
  "language_info": {
   "codemirror_mode": {
    "name": "ipython",
    "version": 3
   },
   "file_extension": ".py",
   "mimetype": "text/x-python",
   "name": "python",
   "nbconvert_exporter": "python",
   "pygments_lexer": "ipython3",
   "version": "3.8.3"
  }
 },
 "nbformat": 4,
 "nbformat_minor": 4
}
